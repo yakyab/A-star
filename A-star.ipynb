{
 "cells": [
  {
   "cell_type": "code",
   "execution_count": 6,
   "metadata": {
    "collapsed": true
   },
   "outputs": [
    {
     "name": "stdout",
     "output_type": "stream",
     "text": [
      "Najkrótsza ścieżka:  [(0, 0), (1, 0), (1, 1), (1, 2), (2, 2), (3, 2), (3, 3), (4, 3), (5, 3), (6, 3), (6, 4), (7, 4), (7, 5), (7, 6), (7, 7), (7, 8), (7, 9), (7, 10), (7, 11), (7, 12)]\n"
     ]
    }
   ],
   "source": [
    "import heapq\n",
    "\n",
    "# Wczytaj planszę z pliku txt\n",
    "with open('Data\\grid1.txt') as f:\n",
    "    grid = [[int(char) for char in line.strip()] for line in f]\n",
    "\n",
    "# Zdefiniuj punkt startowy i końcowy\n",
    "start = (0, 0)\n",
    "goal = (len(grid)-1, len(grid[0])-1)\n",
    "\n",
    "# Zdefiniuj funkcję heurystyczną dla algorytmu A*\n",
    "def heuristic(a, b):\n",
    "    return abs(b[0] - a[0]) + abs(b[1] - a[1])\n",
    "\n",
    "# Zdefiniuj funkcję znajdującą sąsiadów danego punktu\n",
    "def neighbors(point):\n",
    "    x, y = point\n",
    "    results = []\n",
    "    if x > 0 and grid[x-1][y] == 0:\n",
    "        results.append((x-1, y))\n",
    "    if x < len(grid)-1 and grid[x+1][y] == 0:\n",
    "        results.append((x+1, y))\n",
    "    if y > 0 and grid[x][y-1] == 0:\n",
    "        results.append((x, y-1))\n",
    "    if y < len(grid[0])-1 and grid[x][y+1] == 0:\n",
    "        results.append((x, y+1))\n",
    "    return results\n",
    "\n",
    "# Zdefiniuj funkcję wykonującą algorytm A*\n",
    "def a_star(start, goal):\n",
    "    # Inicjalizuj listy open_set i closed_set\n",
    "    open_set = []\n",
    "    heapq.heappush(open_set, (0, start))\n",
    "    came_from = {}\n",
    "    g_score = {start: 0}\n",
    "    f_score = {start: heuristic(start, goal)}\n",
    "\n",
    "    # Wykonuj algorytm A* aż do osiągnięcia celu lub wyczerpania możliwych ścieżek\n",
    "    while open_set:\n",
    "        current = heapq.heappop(open_set)[1]\n",
    "        if current == goal:\n",
    "            path = []\n",
    "            while current in came_from:\n",
    "                path.append(current)\n",
    "                current = came_from[current]\n",
    "            path.append(start)\n",
    "            path.reverse()\n",
    "            return path\n",
    "\n",
    "        for neighbor in neighbors(current):\n",
    "            tentative_g_score = g_score[current] + 1\n",
    "            if neighbor not in g_score or tentative_g_score < g_score[neighbor]:\n",
    "                came_from[neighbor] = current\n",
    "                g_score[neighbor] = tentative_g_score\n",
    "                f_score[neighbor] = tentative_g_score + heuristic(neighbor, goal)\n",
    "                heapq.heappush(open_set, (f_score[neighbor], neighbor))\n",
    "\n",
    "    return None\n",
    "\n",
    "# Wykonaj algorytm A*\n",
    "path = a_star(start, goal)\n",
    "\n",
    "# Zapisz wynik do pliku \"shortestpath.txt\"\n",
    "if path is None:\n",
    "    print(\"Nie znaleziono ścieżki!\")\n",
    "else:\n",
    "    with open('Data\\shortestpath.txt', 'w') as f:\n",
    "        for i in range(len(grid)):\n",
    "            for j in range(len(grid[0])):\n",
    "                if (i, j) in path:\n",
    "                    f.write('2')\n",
    "                else:\n",
    "                    f.write(str(grid[i][j]))\n",
    "            f.write('\\n')\n",
    "\n",
    "    print(\"Najkrótsza ścieżka: \", path)"
   ]
  },
  {
   "cell_type": "code",
   "execution_count": null,
   "outputs": [],
   "source": [],
   "metadata": {
    "collapsed": false,
    "pycharm": {
     "name": "#%%\n"
    }
   }
  }
 ],
 "metadata": {
  "kernelspec": {
   "display_name": "Python 3",
   "language": "python",
   "name": "python3"
  },
  "language_info": {
   "codemirror_mode": {
    "name": "ipython",
    "version": 2
   },
   "file_extension": ".py",
   "mimetype": "text/x-python",
   "name": "python",
   "nbconvert_exporter": "python",
   "pygments_lexer": "ipython2",
   "version": "2.7.6"
  }
 },
 "nbformat": 4,
 "nbformat_minor": 0
}